{
 "cells": [
  {
   "cell_type": "code",
   "execution_count": 2,
   "id": "e32befa1",
   "metadata": {},
   "outputs": [],
   "source": [
    "import requests\n",
    "from bs4 import BeautifulSoup\n",
    "import csv\n",
    "from datetime import datetime\n",
    "import pandas as pd"
   ]
  },
  {
   "cell_type": "code",
   "execution_count": 4,
   "id": "b42f09bd",
   "metadata": {},
   "outputs": [
    {
     "name": "stdout",
     "output_type": "stream",
     "text": [
      "   Unnamed: 0       Fecha  Variacion Santander  Variacion Telefonica  \\\n",
      "0           0  2021-10-27                 0.02                  0.02   \n",
      "\n",
      "   Variacion Repsol  Variacion BBVA  \n",
      "0             0.114            0.03  \n"
     ]
    }
   ],
   "source": [
    "datosyahoo=pd.read_csv('Bolsayahoo.csv', header=0) #Leo archivo de yahoo y lo transformo en la variable datosyahoo\n",
    "print (datosyahoo)"
   ]
  },
  {
   "cell_type": "code",
   "execution_count": 5,
   "id": "81c46a9a",
   "metadata": {},
   "outputs": [
    {
     "data": {
      "text/plain": [
       "0.0199999809265136"
      ]
     },
     "execution_count": 5,
     "metadata": {},
     "output_type": "execute_result"
    }
   ],
   "source": [
    "#filtrado de datos\n",
    "\n",
    "#filtrado de una columna\n",
    "santanderyahoo=datosyahoo.loc[0,'Variacion Santander']\n",
    "santanderyahoo"
   ]
  },
  {
   "cell_type": "code",
   "execution_count": 6,
   "id": "61e441e0",
   "metadata": {},
   "outputs": [
    {
     "data": {
      "text/plain": [
       "0.0199999809265136"
      ]
     },
     "execution_count": 6,
     "metadata": {},
     "output_type": "execute_result"
    }
   ],
   "source": [
    "#filtrado de datos\n",
    "\n",
    "#filtrado de una columna\n",
    "telefonicayahoo=datosyahoo.loc[0,'Variacion Telefonica']\n",
    "telefonicayahoo"
   ]
  },
  {
   "cell_type": "code",
   "execution_count": 7,
   "id": "e831f650",
   "metadata": {},
   "outputs": [
    {
     "data": {
      "text/plain": [
       "0.1140003204345703"
      ]
     },
     "execution_count": 7,
     "metadata": {},
     "output_type": "execute_result"
    }
   ],
   "source": [
    "#filtrado de datos\n",
    "\n",
    "#filtrado de una columna\n",
    "repsolyahoo=datosyahoo.loc[0,'Variacion Repsol']\n",
    "repsolyahoo"
   ]
  },
  {
   "cell_type": "code",
   "execution_count": 8,
   "id": "edeb3d3d",
   "metadata": {},
   "outputs": [
    {
     "data": {
      "text/plain": [
       "0.0300002098083496"
      ]
     },
     "execution_count": 8,
     "metadata": {},
     "output_type": "execute_result"
    }
   ],
   "source": [
    "#filtrado de datos\n",
    "\n",
    "#filtrado de una columna\n",
    "bbvayahoo=datosyahoo.loc[0,'Variacion BBVA']\n",
    "\n",
    "bbvayahoo"
   ]
  },
  {
   "cell_type": "code",
   "execution_count": 12,
   "id": "aca7d016",
   "metadata": {},
   "outputs": [
    {
     "name": "stdout",
     "output_type": "stream",
     "text": [
      "    Unnamed: 0        Nombre    Precio Variacion    Maxima    Minima  \\\n",
      "0            0       ACCIONA  164,4000      0,74  165,1000  162,2000   \n",
      "1            1      ACERINOX   11,9950     -0,37   12,1250   11,9050   \n",
      "2            2           ACS   22,7000     -1,26   23,2400   22,6600   \n",
      "3            3          AENA  141,7500     -0,18  142,9500  141,0500   \n",
      "4            4      ALMIRALL   12,7500     -0,86   12,9600   12,7300   \n",
      "5            5       AMADEUS   57,1000      0,25   57,5600   56,3200   \n",
      "6            6   ARCELORMIT.   29,1350     -0,31   29,5800   28,4450   \n",
      "7            7   B.SANTANDER    3,2610     -2,85    3,3505    3,2245   \n",
      "8            8   BA.SABADELL    0,6548     -1,83    0,6676    0,6506   \n",
      "9            9     BANKINTER    4,7080      0,06    4,7660    4,6600   \n",
      "10          10          BBVA    5,6150     -1,20    5,7440    5,5620   \n",
      "11          11     CAIXABANK    2,5490     -2,04    2,5960    2,5280   \n",
      "12          12       CELLNEX   54,0800     -0,15   54,7200   53,8400   \n",
      "13          13  CIE AUTOMOT.   23,0800      0,17   23,1200   22,7800   \n",
      "14          14        ENAGAS   19,7850      1,77   19,8000   19,3400   \n",
      "15          15        ENDESA   19,8100      2,03   19,8100   19,3150   \n",
      "16          16     FERROVIAL   27,2900      0,04   27,4800   27,2300   \n",
      "17          17       FLUIDRA   36,6500     -0,27   37,5000   36,4000   \n",
      "18          18  GRIFOLS CL.A   19,8500     -2,36   20,3900   19,8500   \n",
      "19          19           IAG    1,8980     -0,50    1,9255    1,8870   \n",
      "20          20     IBERDROLA   10,0500      1,66   10,0950    9,8760   \n",
      "21          21       INDITEX   30,8200     -0,23   31,0000   30,4800   \n",
      "22          22       INDRA A    9,5600     -0,10    9,5600    9,4550   \n",
      "23          23  INM.COLONIAL    8,4800      1,19    8,5400    8,3400   \n",
      "24          24        MAPFRE    1,8220      0,50    1,8330    1,8085   \n",
      "25          25  MELIA HOTELS    6,3020     -0,51    6,3360    6,1520   \n",
      "26          26        MERLIN    9,4400      0,85    9,4560    9,3360   \n",
      "27          27       NATURGY   22,5700      0,80   22,6000   22,3200   \n",
      "28          28    PHARMA MAR   69,1800     -1,76   70,2400   69,0600   \n",
      "29          29        R.E.C.   18,0650      2,35   18,0850   17,5250   \n",
      "30          30        REPSOL   11,4660     -0,64   11,5800   11,3200   \n",
      "31          31  SIEMENS GAME   22,1800     -0,54   22,4000   21,9400   \n",
      "32          32       SOLARIA   16,8350      1,14   16,9850   16,4500   \n",
      "33          33    TELEFONICA    3,8135      0,01    3,8135    3,7685   \n",
      "34          34      VISCOFAN   55,8500      0,18   56,8500   55,5000   \n",
      "\n",
      "         Fecha  \n",
      "0   2021-10-27  \n",
      "1   2021-10-27  \n",
      "2   2021-10-27  \n",
      "3   2021-10-27  \n",
      "4   2021-10-27  \n",
      "5   2021-10-27  \n",
      "6   2021-10-27  \n",
      "7   2021-10-27  \n",
      "8   2021-10-27  \n",
      "9   2021-10-27  \n",
      "10  2021-10-27  \n",
      "11  2021-10-27  \n",
      "12  2021-10-27  \n",
      "13  2021-10-27  \n",
      "14  2021-10-27  \n",
      "15  2021-10-27  \n",
      "16  2021-10-27  \n",
      "17  2021-10-27  \n",
      "18  2021-10-27  \n",
      "19  2021-10-27  \n",
      "20  2021-10-27  \n",
      "21  2021-10-27  \n",
      "22  2021-10-27  \n",
      "23  2021-10-27  \n",
      "24  2021-10-27  \n",
      "25  2021-10-27  \n",
      "26  2021-10-27  \n",
      "27  2021-10-27  \n",
      "28  2021-10-27  \n",
      "29  2021-10-27  \n",
      "30  2021-10-27  \n",
      "31  2021-10-27  \n",
      "32  2021-10-27  \n",
      "33  2021-10-27  \n",
      "34  2021-10-27  \n"
     ]
    }
   ],
   "source": [
    "datosbolsa=pd.read_csv('bolsa_acciones.csv', header=0) #Leo archivo de yahoo y lo transformo en la variable datosyahoo\n",
    "print (datosbolsa)"
   ]
  },
  {
   "cell_type": "code",
   "execution_count": 14,
   "id": "adbac810",
   "metadata": {},
   "outputs": [
    {
     "data": {
      "text/html": [
       "<div>\n",
       "<style scoped>\n",
       "    .dataframe tbody tr th:only-of-type {\n",
       "        vertical-align: middle;\n",
       "    }\n",
       "\n",
       "    .dataframe tbody tr th {\n",
       "        vertical-align: top;\n",
       "    }\n",
       "\n",
       "    .dataframe thead th {\n",
       "        text-align: right;\n",
       "    }\n",
       "</style>\n",
       "<table border=\"1\" class=\"dataframe\">\n",
       "  <thead>\n",
       "    <tr style=\"text-align: right;\">\n",
       "      <th></th>\n",
       "      <th>Unnamed: 0</th>\n",
       "      <th>Nombre</th>\n",
       "      <th>Precio</th>\n",
       "      <th>Variacion</th>\n",
       "      <th>Maxima</th>\n",
       "      <th>Minima</th>\n",
       "      <th>Fecha</th>\n",
       "    </tr>\n",
       "  </thead>\n",
       "  <tbody>\n",
       "    <tr>\n",
       "      <th>7</th>\n",
       "      <td>7</td>\n",
       "      <td>B.SANTANDER</td>\n",
       "      <td>3,2610</td>\n",
       "      <td>-2,85</td>\n",
       "      <td>3,3505</td>\n",
       "      <td>3,2245</td>\n",
       "      <td>2021-10-27</td>\n",
       "    </tr>\n",
       "    <tr>\n",
       "      <th>10</th>\n",
       "      <td>10</td>\n",
       "      <td>BBVA</td>\n",
       "      <td>5,6150</td>\n",
       "      <td>-1,20</td>\n",
       "      <td>5,7440</td>\n",
       "      <td>5,5620</td>\n",
       "      <td>2021-10-27</td>\n",
       "    </tr>\n",
       "    <tr>\n",
       "      <th>30</th>\n",
       "      <td>30</td>\n",
       "      <td>REPSOL</td>\n",
       "      <td>11,4660</td>\n",
       "      <td>-0,64</td>\n",
       "      <td>11,5800</td>\n",
       "      <td>11,3200</td>\n",
       "      <td>2021-10-27</td>\n",
       "    </tr>\n",
       "    <tr>\n",
       "      <th>33</th>\n",
       "      <td>33</td>\n",
       "      <td>TELEFONICA</td>\n",
       "      <td>3,8135</td>\n",
       "      <td>0,01</td>\n",
       "      <td>3,8135</td>\n",
       "      <td>3,7685</td>\n",
       "      <td>2021-10-27</td>\n",
       "    </tr>\n",
       "  </tbody>\n",
       "</table>\n",
       "</div>"
      ],
      "text/plain": [
       "    Unnamed: 0       Nombre   Precio Variacion   Maxima   Minima       Fecha\n",
       "7            7  B.SANTANDER   3,2610     -2,85   3,3505   3,2245  2021-10-27\n",
       "10          10         BBVA   5,6150     -1,20   5,7440   5,5620  2021-10-27\n",
       "30          30       REPSOL  11,4660     -0,64  11,5800  11,3200  2021-10-27\n",
       "33          33   TELEFONICA   3,8135      0,01   3,8135   3,7685  2021-10-27"
      ]
     },
     "execution_count": 14,
     "metadata": {},
     "output_type": "execute_result"
    }
   ],
   "source": [
    "#muestra las filas que quiero del archivo bolda este es por indice\n",
    "\n",
    "datosbolsa.iloc [[7,10,30,33]]"
   ]
  },
  {
   "cell_type": "code",
   "execution_count": 15,
   "id": "be170487",
   "metadata": {},
   "outputs": [
    {
     "data": {
      "text/plain": [
       "'-2,85'"
      ]
     },
     "execution_count": 15,
     "metadata": {},
     "output_type": "execute_result"
    }
   ],
   "source": [
    "#imprime la variacion de Santander\n",
    "\n",
    "santander=datosbolsa.loc[7, 'Variacion']\n",
    "santander"
   ]
  },
  {
   "cell_type": "code",
   "execution_count": 16,
   "id": "ed9a73c7",
   "metadata": {},
   "outputs": [
    {
     "data": {
      "text/plain": [
       "'0,01'"
      ]
     },
     "execution_count": 16,
     "metadata": {},
     "output_type": "execute_result"
    }
   ],
   "source": [
    "telefonica=datosbolsa.loc[33, 'Variacion']\n",
    "telefonica"
   ]
  },
  {
   "cell_type": "code",
   "execution_count": 17,
   "id": "849f5fbb",
   "metadata": {},
   "outputs": [
    {
     "data": {
      "text/plain": [
       "'-0,64'"
      ]
     },
     "execution_count": 17,
     "metadata": {},
     "output_type": "execute_result"
    }
   ],
   "source": [
    "repsol=datosbolsa.loc[30, 'Variacion']\n",
    "repsol"
   ]
  },
  {
   "cell_type": "code",
   "execution_count": 18,
   "id": "643afab9",
   "metadata": {},
   "outputs": [
    {
     "data": {
      "text/plain": [
       "'-1,20'"
      ]
     },
     "execution_count": 18,
     "metadata": {},
     "output_type": "execute_result"
    }
   ],
   "source": [
    "bbva=datosbolsa.loc[10, 'Variacion']\n",
    "bbva"
   ]
  },
  {
   "cell_type": "code",
   "execution_count": 20,
   "id": "915d37e6",
   "metadata": {},
   "outputs": [
    {
     "name": "stdout",
     "output_type": "stream",
     "text": [
      " la Variación de la acción Santander en Yahoo Fue: 0.02 mientras que en la Bolsa de Madrid -2,85\n",
      " la Variación de la acción Telefónica en Yahoo Fue: 0.02 mientras que en la Bolsa de Madrid 0,01\n",
      " la Variación de la acción Repsol en Yahoo Fue: 0.11 mientras que en la Bolsa de Madrid -0,64\n",
      " la Variación de la acción BBVA en Yahoo Fue: 0.03 mientras que en la Bolsa de Madrid -1,20\n"
     ]
    }
   ],
   "source": [
    "#Comparo las variables\n",
    "print(\" la Variación de la acción Santander en Yahoo Fue:\", \"{0:.2f}\".format(santanderyahoo), \"mientras que en la Bolsa de Madrid\", santander)\n",
    "print(\" la Variación de la acción Telefónica en Yahoo Fue:\", \"{0:.2f}\".format(telefonicayahoo), \"mientras que en la Bolsa de Madrid\", telefonica)\n",
    "print(\" la Variación de la acción Repsol en Yahoo Fue:\", \"{0:.2f}\".format(repsolyahoo), \"mientras que en la Bolsa de Madrid\", repsol)\n",
    "print(\" la Variación de la acción BBVA en Yahoo Fue:\", \"{0:.2f}\".format(bbvayahoo), \"mientras que en la Bolsa de Madrid\", bbva)\n",
    "\n",
    "\n"
   ]
  },
  {
   "cell_type": "code",
   "execution_count": null,
   "id": "624b9592",
   "metadata": {},
   "outputs": [],
   "source": []
  }
 ],
 "metadata": {
  "interpreter": {
   "hash": "f3cc0891a43c3c52c937c7be98aff2945b23d4b5d68d58e4e00a560896696b68"
  },
  "kernelspec": {
   "display_name": "Python 3.8.8 64-bit ('base': conda)",
   "name": "python3"
  },
  "language_info": {
   "codemirror_mode": {
    "name": "ipython",
    "version": 3
   },
   "file_extension": ".py",
   "mimetype": "text/x-python",
   "name": "python",
   "nbconvert_exporter": "python",
   "pygments_lexer": "ipython3",
   "version": "3.8.8"
  }
 },
 "nbformat": 4,
 "nbformat_minor": 5
}
