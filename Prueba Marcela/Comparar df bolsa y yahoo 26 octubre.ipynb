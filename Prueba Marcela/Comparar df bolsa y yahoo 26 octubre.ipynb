{
 "cells": [
  {
   "cell_type": "code",
   "execution_count": 1,
   "id": "e32befa1",
   "metadata": {},
   "outputs": [],
   "source": [
    "import requests\n",
    "from bs4 import BeautifulSoup\n",
    "import csv\n",
    "from datetime import datetime\n",
    "import pandas as pd"
   ]
  },
  {
   "cell_type": "code",
   "execution_count": 2,
   "id": "b42f09bd",
   "metadata": {},
   "outputs": [
    {
     "name": "stdout",
     "output_type": "stream",
     "text": [
      "   Unnamed: 0       Fecha  Variacion Santander  Variacion Telefonica  \\\n",
      "0           0  2021-09-24                -0.02                 -0.03   \n",
      "1           1  2021-09-27                -0.03                 -0.05   \n",
      "2           2  2021-09-28                 0.08                  0.07   \n",
      "3           3  2021-09-29                -0.03                 -0.01   \n",
      "4           4  2021-09-30                 0.05                  0.01   \n",
      "5           5  2021-10-01                -0.02                  0.00   \n",
      "6           6  2021-10-04                 0.03                 -0.02   \n",
      "\n",
      "   Variacion Repsol  Variacion BBVA  \n",
      "0            -0.050           -0.05  \n",
      "1            -0.186           -0.03  \n",
      "2            -0.004            0.08  \n",
      "3            -0.246           -0.07  \n",
      "4            -0.036            0.05  \n",
      "5            -0.168           -0.03  \n",
      "6            -0.240            0.02  \n"
     ]
    }
   ],
   "source": [
    "datosyahoo=pd.read_csv('Bolsayahoo.csv', header=0) #Leo archivo de yahoo y lo transformo en la variable datosyahoo\n",
    "print (datosyahoo)\n"
   ]
  },
  {
   "cell_type": "code",
   "execution_count": 3,
   "id": "041d5cd3",
   "metadata": {},
   "outputs": [
    {
     "name": "stdout",
     "output_type": "stream",
     "text": [
      "0   -0.02\n",
      "1   -0.03\n",
      "2    0.08\n",
      "3   -0.03\n",
      "4    0.05\n",
      "5   -0.02\n",
      "6    0.03\n",
      "Name: Variacion Santander, dtype: float64\n"
     ]
    }
   ],
   "source": [
    "print (datosyahoo ['Variacion Santander']) #pido que me imprima una columna\n"
   ]
  },
  {
   "cell_type": "code",
   "execution_count": 23,
   "id": "713d5ee7",
   "metadata": {},
   "outputs": [
    {
     "data": {
      "text/plain": [
       "RangeIndex(start=0, stop=7, step=1)"
      ]
     },
     "execution_count": 23,
     "metadata": {},
     "output_type": "execute_result"
    }
   ],
   "source": [
    "#Devuelve una lista con los nombres de las filas del DataFrame\n",
    "datosyahoo.index"
   ]
  },
  {
   "cell_type": "code",
   "execution_count": 22,
   "id": "45e5cd95",
   "metadata": {},
   "outputs": [
    {
     "data": {
      "text/plain": [
       "Index(['Unnamed: 0', 'Fecha', 'Variacion Santander', 'Variacion Telefonica',\n",
       "       'Variacion Repsol', 'Variacion BBVA'],\n",
       "      dtype='object')"
      ]
     },
     "execution_count": 22,
     "metadata": {},
     "output_type": "execute_result"
    }
   ],
   "source": [
    "#Devuelve una lista con los nombres de las columnas del DataFrame\n",
    "datosyahoo.columns"
   ]
  },
  {
   "cell_type": "code",
   "execution_count": 33,
   "id": "81c46a9a",
   "metadata": {},
   "outputs": [
    {
     "data": {
      "text/plain": [
       "-0.0200002193450927"
      ]
     },
     "execution_count": 33,
     "metadata": {},
     "output_type": "execute_result"
    }
   ],
   "source": [
    "#filtrado de datos\n",
    "\n",
    "#filtrado de una columna\n",
    "santanderyahoo=datosyahoo.loc[0,'Variacion Santander']\n",
    "\n",
    "santanderyahoo"
   ]
  },
  {
   "cell_type": "code",
   "execution_count": 34,
   "id": "61e441e0",
   "metadata": {},
   "outputs": [
    {
     "data": {
      "text/plain": [
       "-0.0300002098083496"
      ]
     },
     "execution_count": 34,
     "metadata": {},
     "output_type": "execute_result"
    }
   ],
   "source": [
    "#filtrado de datos\n",
    "\n",
    "#filtrado de una columna\n",
    "telefonicayahoo=datosyahoo.loc[0,'Variacion Telefonica']\n",
    "\n",
    "telefonicayahoo"
   ]
  },
  {
   "cell_type": "code",
   "execution_count": 35,
   "id": "e831f650",
   "metadata": {},
   "outputs": [
    {
     "data": {
      "text/plain": [
       "-0.0500001907348632"
      ]
     },
     "execution_count": 35,
     "metadata": {},
     "output_type": "execute_result"
    }
   ],
   "source": [
    "#filtrado de datos\n",
    "\n",
    "#filtrado de una columna\n",
    "repsolyahoo=datosyahoo.loc[0,'Variacion Repsol']\n",
    "\n",
    "repsolyahoo"
   ]
  },
  {
   "cell_type": "code",
   "execution_count": 36,
   "id": "edeb3d3d",
   "metadata": {},
   "outputs": [
    {
     "data": {
      "text/plain": [
       "-0.049999713897705"
      ]
     },
     "execution_count": 36,
     "metadata": {},
     "output_type": "execute_result"
    }
   ],
   "source": [
    "#filtrado de datos\n",
    "\n",
    "#filtrado de una columna\n",
    "bbvayahoo=datosyahoo.loc[0,'Variacion BBVA']\n",
    "\n",
    "bbvayahoo"
   ]
  },
  {
   "cell_type": "code",
   "execution_count": 5,
   "id": "aca7d016",
   "metadata": {},
   "outputs": [
    {
     "name": "stdout",
     "output_type": "stream",
     "text": [
      "       Unnamed: 0    Nombre    Precio Variacion    Maxima  \\\n",
      "0               0   ACCIONA  157,8000      1,15  158,9000   \n",
      "1               1  ACERINOX   11,4900     -2,25   11,6800   \n",
      "2               2       ACS   23,0500      0,22   23,2900   \n",
      "3               3      AENA  141,0000     -2,08  142,4500   \n",
      "4               4  ALMIRALL   12,7500      0,39   12,8400   \n",
      "..            ...       ...       ...       ...       ...   \n",
      "246        REPSOL   11,6400     -0,33   11,7100   11,4680   \n",
      "247  SIEMENS GAME   22,3600      2,99   22,5400   21,7600   \n",
      "248       SOLARIA   16,6500      2,56   16,8000   16,3000   \n",
      "249    TELEFONICA    3,7740     -1,27    3,8055    3,7465   \n",
      "250      VISCOFAN   55,8500      1,18   56,1500   55,4000   \n",
      "\n",
      "                         Minima                       Fecha  \n",
      "0                      154,2000  2021-10-21 18:17:24.068841  \n",
      "1                       11,4000  2021-10-21 18:17:24.068841  \n",
      "2                       22,7600  2021-10-21 18:17:24.068841  \n",
      "3                      139,7500  2021-10-21 18:17:24.068841  \n",
      "4                       12,6400  2021-10-21 18:17:24.068841  \n",
      "..                          ...                         ...  \n",
      "246  2021-10-26 10:20:29.772730                         NaN  \n",
      "247  2021-10-26 10:20:29.772730                         NaN  \n",
      "248  2021-10-26 10:20:29.772730                         NaN  \n",
      "249  2021-10-26 10:20:29.772730                         NaN  \n",
      "250  2021-10-26 10:20:29.772730                         NaN  \n",
      "\n",
      "[251 rows x 7 columns]\n"
     ]
    }
   ],
   "source": [
    "datosbolsa=pd.read_csv('bolsa_acciones.csv', header=0) #Leo archivo de yahoo y lo transformo en la variable datosyahoo\n",
    "print (datosbolsa)"
   ]
  },
  {
   "cell_type": "code",
   "execution_count": 6,
   "id": "ce2bd3e1",
   "metadata": {},
   "outputs": [
    {
     "data": {
      "text/plain": [
       "0         1,15\n",
       "1        -2,25\n",
       "2         0,22\n",
       "3        -2,08\n",
       "4         0,39\n",
       "        ...   \n",
       "246    11,7100\n",
       "247    22,5400\n",
       "248    16,8000\n",
       "249     3,8055\n",
       "250    56,1500\n",
       "Name: Variacion, Length: 251, dtype: object"
      ]
     },
     "execution_count": 6,
     "metadata": {},
     "output_type": "execute_result"
    }
   ],
   "source": [
    "#filtrado de datos\n",
    "\n",
    "#filtrado de una columna\n",
    "variacion1=datosbolsa['Variacion']\n",
    "\n",
    "variacion1"
   ]
  },
  {
   "cell_type": "code",
   "execution_count": 7,
   "id": "adbac810",
   "metadata": {},
   "outputs": [
    {
     "data": {
      "text/html": [
       "<div>\n",
       "<style scoped>\n",
       "    .dataframe tbody tr th:only-of-type {\n",
       "        vertical-align: middle;\n",
       "    }\n",
       "\n",
       "    .dataframe tbody tr th {\n",
       "        vertical-align: top;\n",
       "    }\n",
       "\n",
       "    .dataframe thead th {\n",
       "        text-align: right;\n",
       "    }\n",
       "</style>\n",
       "<table border=\"1\" class=\"dataframe\">\n",
       "  <thead>\n",
       "    <tr style=\"text-align: right;\">\n",
       "      <th></th>\n",
       "      <th>Unnamed: 0</th>\n",
       "      <th>Nombre</th>\n",
       "      <th>Precio</th>\n",
       "      <th>Variacion</th>\n",
       "      <th>Maxima</th>\n",
       "      <th>Minima</th>\n",
       "      <th>Fecha</th>\n",
       "    </tr>\n",
       "  </thead>\n",
       "  <tbody>\n",
       "    <tr>\n",
       "      <th>7</th>\n",
       "      <td>7</td>\n",
       "      <td>B.SANTANDER</td>\n",
       "      <td>3,3135</td>\n",
       "      <td>-1,38</td>\n",
       "      <td>3,3500</td>\n",
       "      <td>3,2970</td>\n",
       "      <td>2021-10-21 18:17:24.084446</td>\n",
       "    </tr>\n",
       "    <tr>\n",
       "      <th>10</th>\n",
       "      <td>10</td>\n",
       "      <td>BBVA</td>\n",
       "      <td>5,6610</td>\n",
       "      <td>-2,90</td>\n",
       "      <td>5,7870</td>\n",
       "      <td>5,6370</td>\n",
       "      <td>2021-10-21 18:17:24.084446</td>\n",
       "    </tr>\n",
       "    <tr>\n",
       "      <th>30</th>\n",
       "      <td>30</td>\n",
       "      <td>REPSOL</td>\n",
       "      <td>11,4520</td>\n",
       "      <td>-2,04</td>\n",
       "      <td>11,6600</td>\n",
       "      <td>11,4440</td>\n",
       "      <td>2021-10-21 18:17:24.131317</td>\n",
       "    </tr>\n",
       "    <tr>\n",
       "      <th>33</th>\n",
       "      <td>33</td>\n",
       "      <td>TELEFONICA</td>\n",
       "      <td>3,7905</td>\n",
       "      <td>-1,20</td>\n",
       "      <td>3,8685</td>\n",
       "      <td>3,7905</td>\n",
       "      <td>2021-10-21 18:17:24.131317</td>\n",
       "    </tr>\n",
       "  </tbody>\n",
       "</table>\n",
       "</div>"
      ],
      "text/plain": [
       "   Unnamed: 0       Nombre   Precio Variacion   Maxima   Minima  \\\n",
       "7           7  B.SANTANDER   3,3135     -1,38   3,3500   3,2970   \n",
       "10         10         BBVA   5,6610     -2,90   5,7870   5,6370   \n",
       "30         30       REPSOL  11,4520     -2,04  11,6600  11,4440   \n",
       "33         33   TELEFONICA   3,7905     -1,20   3,8685   3,7905   \n",
       "\n",
       "                         Fecha  \n",
       "7   2021-10-21 18:17:24.084446  \n",
       "10  2021-10-21 18:17:24.084446  \n",
       "30  2021-10-21 18:17:24.131317  \n",
       "33  2021-10-21 18:17:24.131317  "
      ]
     },
     "execution_count": 7,
     "metadata": {},
     "output_type": "execute_result"
    }
   ],
   "source": [
    "#muestra las filas que quiero del archivo bolda este es por indice\n",
    "\n",
    "datosbolsa.iloc [[7,10,30,33]]"
   ]
  },
  {
   "cell_type": "code",
   "execution_count": 12,
   "id": "be170487",
   "metadata": {},
   "outputs": [
    {
     "data": {
      "text/plain": [
       "'-1,38'"
      ]
     },
     "execution_count": 12,
     "metadata": {},
     "output_type": "execute_result"
    }
   ],
   "source": [
    "#imprime la variacion de Santander\n",
    "\n",
    "santander=datosbolsa.loc[7, 'Variacion']\n",
    "\n",
    "santander"
   ]
  },
  {
   "cell_type": "code",
   "execution_count": 14,
   "id": "ed9a73c7",
   "metadata": {},
   "outputs": [
    {
     "data": {
      "text/plain": [
       "'-1,20'"
      ]
     },
     "execution_count": 14,
     "metadata": {},
     "output_type": "execute_result"
    }
   ],
   "source": [
    "telefonica=datosbolsa.loc[33, 'Variacion']\n",
    "telefonica"
   ]
  },
  {
   "cell_type": "code",
   "execution_count": 15,
   "id": "849f5fbb",
   "metadata": {},
   "outputs": [
    {
     "data": {
      "text/plain": [
       "'-2,04'"
      ]
     },
     "execution_count": 15,
     "metadata": {},
     "output_type": "execute_result"
    }
   ],
   "source": [
    "repsol=datosbolsa.loc[30, 'Variacion']\n",
    "repsol"
   ]
  },
  {
   "cell_type": "code",
   "execution_count": 17,
   "id": "643afab9",
   "metadata": {},
   "outputs": [
    {
     "data": {
      "text/plain": [
       "'-2,90'"
      ]
     },
     "execution_count": 17,
     "metadata": {},
     "output_type": "execute_result"
    }
   ],
   "source": [
    "bbva=datosbolsa.loc[10, 'Variacion']\n",
    "bbva"
   ]
  },
  {
   "cell_type": "code",
   "execution_count": 50,
   "id": "915d37e6",
   "metadata": {},
   "outputs": [
    {
     "name": "stdout",
     "output_type": "stream",
     "text": [
      " la Variación de la acción Santander en Yahoo Fue: -0.02 mientras que en la Bolsa de Marid -1,38\n",
      " la Variación de la acción Telefónica en Yahoo Fue: -0.03 mientras que en la Bolsa de Marid -1,20\n",
      " la Variación de la acción Repsol en Yahoo Fue: -0.05 mientras que en la Bolsa de Marid -2,04\n",
      " la Variación de la acción BBVA en Yahoo Fue: -0.05 mientras que en la Bolsa de Marid -2,90\n"
     ]
    }
   ],
   "source": [
    "#Comparo las variables\n",
    "print(\" la Variación de la acción Santander en Yahoo Fue:\", \"{0:.2f}\".format(santanderyahoo), \"mientras que en la Bolsa de Marid\", santander)\n",
    "print(\" la Variación de la acción Telefónica en Yahoo Fue:\", \"{0:.2f}\".format(telefonicayahoo), \"mientras que en la Bolsa de Marid\", telefonica)\n",
    "print(\" la Variación de la acción Repsol en Yahoo Fue:\", \"{0:.2f}\".format(repsolyahoo), \"mientras que en la Bolsa de Marid\", repsol)\n",
    "print(\" la Variación de la acción BBVA en Yahoo Fue:\", \"{0:.2f}\".format(bbvayahoo), \"mientras que en la Bolsa de Marid\", bbva)\n",
    "\n",
    "\n"
   ]
  },
  {
   "cell_type": "code",
   "execution_count": null,
   "id": "624b9592",
   "metadata": {},
   "outputs": [],
   "source": []
  }
 ],
 "metadata": {
  "kernelspec": {
   "display_name": "Python 3",
   "language": "python",
   "name": "python3"
  },
  "language_info": {
   "codemirror_mode": {
    "name": "ipython",
    "version": 3
   },
   "file_extension": ".py",
   "mimetype": "text/x-python",
   "name": "python",
   "nbconvert_exporter": "python",
   "pygments_lexer": "ipython3",
   "version": "3.8.5"
  }
 },
 "nbformat": 4,
 "nbformat_minor": 5
}
