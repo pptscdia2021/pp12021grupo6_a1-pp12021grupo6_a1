{
 "cells": [
  {
   "cell_type": "code",
   "execution_count": 2,
   "id": "0d13191d",
   "metadata": {},
   "outputs": [
    {
     "name": "stdout",
     "output_type": "stream",
     "text": [
      "Collecting pymongo\n",
      "  Downloading pymongo-3.12.1-cp38-cp38-win_amd64.whl (398 kB)\n",
      "Installing collected packages: pymongo\n",
      "Successfully installed pymongo-3.12.1\n",
      "Note: you may need to restart the kernel to use updated packages.\n"
     ]
    }
   ],
   "source": [
    "# instalar la librería pymongodb\n",
    "pip install pymongo\n"
   ]
  },
  {
   "cell_type": "code",
   "execution_count": 3,
   "id": "8aa2a814",
   "metadata": {},
   "outputs": [],
   "source": [
    "import pymongo\n",
    "import pandas as pd"
   ]
  },
  {
   "cell_type": "code",
   "execution_count": 4,
   "id": "4723c60b",
   "metadata": {},
   "outputs": [],
   "source": [
    "#Conexión a MongoDB\n",
    "client = pymongo.MongoClient('localhost',27017)\n",
    "db = client['mongo']"
   ]
  },
  {
   "cell_type": "code",
   "execution_count": 5,
   "id": "4cd15b3e",
   "metadata": {},
   "outputs": [],
   "source": [
    "#Colección se llama income\n",
    "collection = db['income']"
   ]
  },
  {
   "cell_type": "code",
   "execution_count": 10,
   "id": "b836d8db",
   "metadata": {},
   "outputs": [
    {
     "data": {
      "text/plain": [
       "'age,workclass,fnlwgt,education,education-num,marital-status,occupation,relationship,race,sex,capital-gain,capital-loss,hours-per-week,native-country,label'"
      ]
     },
     "execution_count": 10,
     "metadata": {},
     "output_type": "execute_result"
    }
   ],
   "source": [
    "#Lee un archivo, \n",
    "#Para que? Lee el nombre de las columnas\n",
    "#Donde está este archivo? Debe estar en la misma raíz donde se encuentra y se ejecuta este código\n",
    "#Como proceder para continuar con el programa??\n",
    "\n",
    "with open('income_header.txt') as finput:\n",
    "    column_names = finput.readline()\n",
    "column_names"
   ]
  },
  {
   "cell_type": "code",
   "execution_count": 11,
   "id": "a7746e40",
   "metadata": {},
   "outputs": [
    {
     "data": {
      "text/plain": [
       "['age',\n",
       " 'workclass',\n",
       " 'fnlwgt',\n",
       " 'education',\n",
       " 'education-num',\n",
       " 'marital-status',\n",
       " 'occupation',\n",
       " 'relationship',\n",
       " 'race',\n",
       " 'sex',\n",
       " 'capital-gain',\n",
       " 'capital-loss',\n",
       " 'hours-per-week',\n",
       " 'native-country',\n",
       " 'label']"
      ]
     },
     "execution_count": 11,
     "metadata": {},
     "output_type": "execute_result"
    }
   ],
   "source": [
    "column_names_list = column_names.split(',')\n",
    "column_names_list"
   ]
  },
  {
   "cell_type": "code",
   "execution_count": 13,
   "id": "90a78850",
   "metadata": {},
   "outputs": [],
   "source": [
    "#with open('income.txt')as finput:\n",
    "with open('adult.data')as finput:\n",
    "    for line in finput:\n",
    "        row_list =line.rstrip('\\n').split(',')\n",
    "        row_dict = dict(zip(column_names_list,row_list))\n",
    "        try:\n",
    "            row_dict['age']= int(row_dict['age'])\n",
    "            collection.insert_one(row_dict)\n",
    "        except:\n",
    "            pass"
   ]
  },
  {
   "cell_type": "code",
   "execution_count": 14,
   "id": "3dd4c5fb",
   "metadata": {},
   "outputs": [
    {
     "name": "stderr",
     "output_type": "stream",
     "text": [
      "C:\\Users\\User\\AppData\\Local\\Temp/ipykernel_10544/2497048341.py:1: DeprecationWarning: count is deprecated. Use estimated_document_count or count_documents instead. Please note that $where must be replaced by $expr, $near must be replaced by $geoWithin with $center, and $nearSphere must be replaced by $geoWithin with $centerSphere\n",
      "  collection.count()\n"
     ]
    },
    {
     "data": {
      "text/plain": [
       "32561"
      ]
     },
     "execution_count": 14,
     "metadata": {},
     "output_type": "execute_result"
    }
   ],
   "source": [
    "# cuenta cantidad de registros totales de la colección\n",
    "collection.count()"
   ]
  },
  {
   "cell_type": "code",
   "execution_count": 15,
   "id": "2b4246eb",
   "metadata": {},
   "outputs": [
    {
     "name": "stdout",
     "output_type": "stream",
     "text": [
      "{'_id': ObjectId('617e3d0417dd152fe703c29e'), 'age': 39, 'workclass': ' State-gov', 'fnlwgt': ' 77516', 'education': ' Bachelors', 'education-num': ' 13', 'marital-status': ' Never-married', 'occupation': ' Adm-clerical', 'relationship': ' Not-in-family', 'race': ' White', 'sex': ' Male', 'capital-gain': ' 2174', 'capital-loss': ' 0', 'hours-per-week': ' 40', 'native-country': ' United-States', 'label': ' <=50K'}\n"
     ]
    }
   ],
   "source": [
    "# busca un registro en particular con filtros específicos\n",
    "age39 = collection.find_one({'age':{'$eq' : 39}}) #alternatively, {'age': 39} can be used\n",
    "print(age39)"
   ]
  }
 ],
 "metadata": {
  "kernelspec": {
   "display_name": "Python 3 (ipykernel)",
   "language": "python",
   "name": "python3"
  },
  "language_info": {
   "codemirror_mode": {
    "name": "ipython",
    "version": 3
   },
   "file_extension": ".py",
   "mimetype": "text/x-python",
   "name": "python",
   "nbconvert_exporter": "python",
   "pygments_lexer": "ipython3",
   "version": "3.8.12"
  }
 },
 "nbformat": 4,
 "nbformat_minor": 5
}
