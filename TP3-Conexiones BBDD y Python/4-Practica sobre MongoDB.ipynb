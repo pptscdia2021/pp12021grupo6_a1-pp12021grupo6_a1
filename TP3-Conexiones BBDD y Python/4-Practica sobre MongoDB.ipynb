{
 "cells": [
  {
   "cell_type": "code",
   "execution_count": 8,
   "id": "6cdc8dec",
   "metadata": {},
   "outputs": [],
   "source": [
    "# 9no Ejercicio\n",
    "# Compartir el código en Python para crear en MongoDB una base de datos denominada \"weatherHistory\" \n",
    "# y una colección con el mismo nombre. Cargar los datos del archivo csv denominado weatherHistory.csv\n",
    "\n",
    "#Imports\n",
    "import pymongo\n",
    "import pandas as pd\n",
    "import csv\n"
   ]
  },
  {
   "cell_type": "code",
   "execution_count": 28,
   "id": "8eaf7e34",
   "metadata": {},
   "outputs": [],
   "source": [
    "#Conexión a MongoDB\n",
    "client = pymongo.MongoClient('localhost',27017)\n",
    "db = client.meteorology"
   ]
  },
  {
   "cell_type": "code",
   "execution_count": 29,
   "id": "667b12c8",
   "metadata": {},
   "outputs": [],
   "source": [
    "#Colección\n",
    "collection = db['weather']"
   ]
  },
  {
   "cell_type": "code",
   "execution_count": 30,
   "id": "a273c484",
   "metadata": {},
   "outputs": [
    {
     "data": {
      "text/plain": [
       "'Formatted_Date,Summary,Precip_Type,Temperature_C,Apparent_Temperature_C,Humidity,Wind_Speed_km_h,Wind_Bearing_degrees,Visibility_km,Loud_Cover,Pressure_millibars,Daily_Summary\\n'"
      ]
     },
     "execution_count": 30,
     "metadata": {},
     "output_type": "execute_result"
    }
   ],
   "source": [
    "with open('weather_header.txt') as finput:\n",
    "    column_names = finput.readline()\n",
    "column_names"
   ]
  },
  {
   "cell_type": "code",
   "execution_count": 31,
   "id": "62bc1d13",
   "metadata": {},
   "outputs": [
    {
     "data": {
      "text/plain": [
       "['Formatted_Date',\n",
       " 'Summary',\n",
       " 'Precip_Type',\n",
       " 'Temperature_C',\n",
       " 'Apparent_Temperature_C',\n",
       " 'Humidity',\n",
       " 'Wind_Speed_km_h',\n",
       " 'Wind_Bearing_degrees',\n",
       " 'Visibility_km',\n",
       " 'Loud_Cover',\n",
       " 'Pressure_millibars',\n",
       " 'Daily_Summary\\n']"
      ]
     },
     "execution_count": 31,
     "metadata": {},
     "output_type": "execute_result"
    }
   ],
   "source": [
    "column_names_list = column_names.split(',')\n",
    "column_names_list"
   ]
  },
  {
   "cell_type": "code",
   "execution_count": 52,
   "id": "414a5cdf",
   "metadata": {},
   "outputs": [],
   "source": [
    "#with open('weatherHistory.csv')as finput:\n",
    "import csv\n",
    "\n",
    "#with open('weatherHistory.csv', 'r') as csvfile:\n",
    " #   reader = csv.reader(csvfile)\n",
    "    \n",
    "with open('weatherHistory.csv') as csvfile:\n",
    "    reader = csv.reader(csvfile, delimiter=',', lineterminator='.')\n",
    "   \n",
    "    for line in reader:\n",
    "        #print(line)\n",
    "        row_list =line\n",
    "        row_dict = dict(zip(column_names_list,row_list))\n",
    "        try:\n",
    "            row_dict['Formatted_Date']= str(row_dict['Formatted_Date'])\n",
    "            collection.insert_one(row_dict)\n",
    "        except:\n",
    "            pass\n"
   ]
  },
  {
   "cell_type": "code",
   "execution_count": null,
   "id": "b3852526",
   "metadata": {},
   "outputs": [],
   "source": []
  },
  {
   "cell_type": "code",
   "execution_count": 53,
   "id": "38418d6a",
   "metadata": {},
   "outputs": [
    {
     "name": "stderr",
     "output_type": "stream",
     "text": [
      "<ipython-input-53-e92879109a40>:2: DeprecationWarning: count is deprecated. Use estimated_document_count or count_documents instead. Please note that $where must be replaced by $expr, $near must be replaced by $geoWithin with $center, and $nearSphere must be replaced by $geoWithin with $centerSphere\n",
      "  collection.count()\n"
     ]
    },
    {
     "data": {
      "text/plain": [
       "96453"
      ]
     },
     "execution_count": 53,
     "metadata": {},
     "output_type": "execute_result"
    }
   ],
   "source": [
    "# 10mo Ejercicio\n",
    "Compartir el código en en Python que devuelva la cantidad de registros insertados en la colección anterior.\n",
    "\n",
    "#Cuenta cantidad de registros\n",
    "collection.count()"
   ]
  },
  {
   "cell_type": "code",
   "execution_count": null,
   "id": "dfef4c94",
   "metadata": {},
   "outputs": [],
   "source": []
  }
 ],
 "metadata": {
  "kernelspec": {
   "display_name": "Python 3 (ipykernel)",
   "language": "python",
   "name": "python3"
  },
  "language_info": {
   "codemirror_mode": {
    "name": "ipython",
    "version": 3
   },
   "file_extension": ".py",
   "mimetype": "text/x-python",
   "name": "python",
   "nbconvert_exporter": "python",
   "pygments_lexer": "ipython3",
   "version": "3.8.8"
  }
 },
 "nbformat": 4,
 "nbformat_minor": 5
}
